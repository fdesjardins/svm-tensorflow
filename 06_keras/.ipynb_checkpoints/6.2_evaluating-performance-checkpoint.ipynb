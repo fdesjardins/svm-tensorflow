{
 "cells": [
  {
   "cell_type": "code",
   "execution_count": null,
   "metadata": {
    "collapsed": false
   },
   "outputs": [],
   "source": [
    "# MLp with automatic validation set\n",
    "from keras.models import Sequential\n",
    "from keras.layers import Dense\n",
    "import numpy"
   ]
  },
  {
   "cell_type": "code",
   "execution_count": null,
   "metadata": {
    "collapsed": true
   },
   "outputs": [],
   "source": [
    "# fix seed\n",
    "seed = 7\n",
    "numpy.random.seed(seed)"
   ]
  },
  {
   "cell_type": "code",
   "execution_count": null,
   "metadata": {
    "collapsed": false
   },
   "outputs": [],
   "source": [
    "# load pima indians dataset\n",
    "dataset = numpy.loadtxt('pima-indians-diabetes.csv', delimiter=',')"
   ]
  },
  {
   "cell_type": "code",
   "execution_count": null,
   "metadata": {
    "collapsed": false
   },
   "outputs": [],
   "source": [
    "# split int input (X) and output (Y)\n",
    "X = dataset[:, 0:8]\n",
    "Y = dataset[:, 8]"
   ]
  },
  {
   "cell_type": "code",
   "execution_count": null,
   "metadata": {
    "collapsed": true
   },
   "outputs": [],
   "source": [
    "# create model\n",
    "model = Sequential()\n",
    "model.add(Dense(12, input_dim=8, activation='relu'))\n",
    "model.add(Dense(8, activation='relu'))\n",
    "model.add(Dense(1, activation='sigmoid'))"
   ]
  },
  {
   "cell_type": "code",
   "execution_count": null,
   "metadata": {
    "collapsed": false,
    "scrolled": true
   },
   "outputs": [],
   "source": [
    "# compile model\n",
    "model.compile(loss='binary_crossentropy', optimizer='adam', metrics=['accuracy'])\n",
    "# fit the model\n",
    "model.fit(X, Y, validation_split=0.33, epochs=150, batch_size=10)"
   ]
  },
  {
   "cell_type": "code",
   "execution_count": null,
   "metadata": {
    "collapsed": true
   },
   "outputs": [],
   "source": [
    "# now split the data using sklearn: 67% for training, 33% for testing\n",
    "from sklearn.model_selection import train_test_split"
   ]
  },
  {
   "cell_type": "code",
   "execution_count": null,
   "metadata": {
    "collapsed": false
   },
   "outputs": [],
   "source": [
    "X_train, X_test, Y_train, Y_test = train_test_split(X, Y, test_size=0.33, random_state=seed)"
   ]
  },
  {
   "cell_type": "code",
   "execution_count": null,
   "metadata": {
    "collapsed": true
   },
   "outputs": [],
   "source": [
    "# create model\n",
    "model2 = Sequential()\n",
    "model2.add(Dense(12, input_dim=8, activation='relu'))\n",
    "model2.add(Dense(8, activation='relu'))\n",
    "model2.add(Dense(1, activation='sigmoid'))"
   ]
  },
  {
   "cell_type": "code",
   "execution_count": null,
   "metadata": {
    "collapsed": false
   },
   "outputs": [],
   "source": [
    "# compile model\n",
    "model.compile(loss='binary_crossentropy', optimizer='adam', metrics=['accuracy'])\n",
    "# fit the model\n",
    "model.fit(X_train, Y_train, validation_data=(X_test, Y_test), epochs=150, batch_size=10)"
   ]
  },
  {
   "cell_type": "code",
   "execution_count": null,
   "metadata": {
    "collapsed": true
   },
   "outputs": [],
   "source": [
    "# finally, use k-fold cross validation\n",
    "from sklearn.model_selection import StratifiedKFold"
   ]
  },
  {
   "cell_type": "code",
   "execution_count": null,
   "metadata": {
    "collapsed": true
   },
   "outputs": [],
   "source": [
    "kfold = StratifiedKFold(n_splits=10, shuffle=True, random_state=seed)"
   ]
  },
  {
   "cell_type": "code",
   "execution_count": null,
   "metadata": {
    "collapsed": true
   },
   "outputs": [],
   "source": [
    "cv_scores = []"
   ]
  },
  {
   "cell_type": "code",
   "execution_count": null,
   "metadata": {
    "collapsed": false
   },
   "outputs": [],
   "source": [
    "for train, test in kfold.split(X, Y):\n",
    "    # create model\n",
    "    kf_model = Sequential()\n",
    "    kf_model.add(Dense(12, input_dim=8, activation='relu'))\n",
    "    kf_model.add(Dense(8, activation='relu'))\n",
    "    kf_model.add(Dense(1, activation='sigmoid'))\n",
    "    kf_model.compile(loss='binary_crossentropy', optimizer='adam', metrics=['accuracy'])\n",
    "    kf_model.fit(X_train, Y_train, validation_data=(X_test, Y_test), epochs=150, batch_size=10)\n",
    "    scores = kf_model.evaluate(X[test], Y[test], verbose=0)\n",
    "    print('%s: %.2f%%' % (model.metrics_names[1], scores[1] * 100))\n",
    "    cv_scores.append(scores[1] * 100)\n",
    "\n",
    "print('%.2f%% (+/- %.2f%%)' % (numpy.mean(cv_scores), numpy.std(cv_scores)))"
   ]
  },
  {
   "cell_type": "code",
   "execution_count": null,
   "metadata": {
    "collapsed": false
   },
   "outputs": [],
   "source": [
    "# do it faster\n",
    "from deco import concurrent, synchronized\n",
    "\n",
    "cv_scores2 = []\n",
    "    \n",
    "@concurrent(processes=4)\n",
    "def trainCycle(train, test):\n",
    "    # create model\n",
    "    print('creating model')\n",
    "    kf_model = Sequential()\n",
    "    kf_model.add(Dense(12, input_dim=8, activation='relu'))\n",
    "    kf_model.add(Dense(8, activation='relu'))\n",
    "    kf_model.add(Dense(1, activation='sigmoid'))\n",
    "    kf_model.compile(loss='binary_crossentropy', optimizer='adam', metrics=['accuracy'])\n",
    "    kf_model.fit(X[train], Y[train], validation_data=(X[test], Y[test]), epochs=150, batch_size=10)\n",
    "    scores = kf_model.evaluate(X[test], Y[test], verbose=0)\n",
    "    print('%s: %.2f%%' % (model.metrics_names[1], scores[1] * 100))\n",
    "    cv_scores2.append(scores[1] * 100)\n",
    "\n",
    "def trainAll():\n",
    "    for train, test in kfold.split(X, Y):\n",
    "        print('training fold')\n",
    "        trainCycle(train, test)\n",
    "    trainCycle.wait()\n",
    "    print('done')\n",
    "    return\n",
    "\n",
    "trainAll()\n",
    "print('%.2f%% (+/- %.2f%%)' % (numpy.mean(cv_scores2), numpy.std(cv_scores2)))"
   ]
  },
  {
   "cell_type": "code",
   "execution_count": null,
   "metadata": {
    "collapsed": true
   },
   "outputs": [],
   "source": []
  }
 ],
 "metadata": {
  "kernelspec": {
   "display_name": "Python 3",
   "language": "python",
   "name": "python3"
  },
  "language_info": {
   "codemirror_mode": {
    "name": "ipython",
    "version": 3
   },
   "file_extension": ".py",
   "mimetype": "text/x-python",
   "name": "python",
   "nbconvert_exporter": "python",
   "pygments_lexer": "ipython3",
   "version": "3.6.0"
  }
 },
 "nbformat": 4,
 "nbformat_minor": 2
}
