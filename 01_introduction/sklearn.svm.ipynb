{
 "cells": [
  {
   "cell_type": "code",
   "execution_count": 2,
   "metadata": {
    "collapsed": true
   },
   "outputs": [],
   "source": [
    "from sklearn.svm import SVC"
   ]
  },
  {
   "cell_type": "code",
   "execution_count": 3,
   "metadata": {
    "collapsed": true
   },
   "outputs": [],
   "source": [
    "import numpy as np"
   ]
  },
  {
   "cell_type": "code",
   "execution_count": 4,
   "metadata": {
    "collapsed": false
   },
   "outputs": [
    {
     "name": "stderr",
     "output_type": "stream",
     "text": [
      "/home/forrest/Workspace/anaconda3/lib/python3.6/site-packages/matplotlib/font_manager.py:280: UserWarning: Matplotlib is building the font cache using fc-list. This may take a moment.\n",
      "  'Matplotlib is building the font cache using fc-list. '\n"
     ]
    }
   ],
   "source": [
    "import matplotlib.pyplot as plt"
   ]
  },
  {
   "cell_type": "code",
   "execution_count": 5,
   "metadata": {
    "collapsed": false
   },
   "outputs": [
    {
     "ename": "ModuleNotFoundError",
     "evalue": "No module named 'mlxtend'",
     "output_type": "error",
     "traceback": [
      "\u001b[0;31m---------------------------------------------------------------------------\u001b[0m",
      "\u001b[0;31mModuleNotFoundError\u001b[0m                       Traceback (most recent call last)",
      "\u001b[0;32m<ipython-input-5-179e3dd7a9a9>\u001b[0m in \u001b[0;36m<module>\u001b[0;34m()\u001b[0m\n\u001b[0;32m----> 1\u001b[0;31m \u001b[0;32mfrom\u001b[0m \u001b[0mmlxtend\u001b[0m\u001b[0;34m.\u001b[0m\u001b[0mplotting\u001b[0m \u001b[0;32mimport\u001b[0m \u001b[0mplot_decision_regions\u001b[0m\u001b[0;34m\u001b[0m\u001b[0m\n\u001b[0m",
      "\u001b[0;31mModuleNotFoundError\u001b[0m: No module named 'mlxtend'"
     ]
    }
   ],
   "source": [
    "from mlxtend.plotting import plot_decision_regions"
   ]
  },
  {
   "cell_type": "code",
   "execution_count": 6,
   "metadata": {
    "collapsed": true
   },
   "outputs": [],
   "source": [
    "np.random.seed(6)"
   ]
  },
  {
   "cell_type": "code",
   "execution_count": 7,
   "metadata": {
    "collapsed": true
   },
   "outputs": [],
   "source": [
    "X = np.random.randn(200, 2)"
   ]
  },
  {
   "cell_type": "code",
   "execution_count": 8,
   "metadata": {
    "collapsed": false
   },
   "outputs": [
    {
     "data": {
      "text/plain": [
       "array([[-0.31178367,  0.72900392],\n",
       "       [ 0.21782079, -0.8990918 ],\n",
       "       [-2.48678065,  0.91325152],\n",
       "       [ 1.12706373, -1.51409323],\n",
       "       [ 1.63929108, -0.4298936 ],\n",
       "       [ 2.63128056,  0.60182225],\n",
       "       [-0.33588161,  1.23773784],\n",
       "       [ 0.11112817,  0.12915125],\n",
       "       [ 0.07612761, -0.15512816],\n",
       "       [ 0.63422534,  0.810655  ],\n",
       "       [ 0.35480861,  1.81259031],\n",
       "       [-1.3564758 , -0.46363197],\n",
       "       [ 0.82465384, -1.17643148],\n",
       "       [ 1.56448966,  0.71270509],\n",
       "       [-0.1810066 ,  0.53419953],\n",
       "       [-0.58661296, -1.48185327],\n",
       "       [ 0.85724762,  0.94309899],\n",
       "       [ 0.11444143, -0.02195668],\n",
       "       [-2.12714455, -0.83440747],\n",
       "       [-0.46550831,  0.23371059],\n",
       "       [ 1.38503523, -0.51962709],\n",
       "       [-0.78015214,  0.95560959],\n",
       "       [-0.12673638, -1.36861282],\n",
       "       [ 1.21848065, -0.85750144],\n",
       "       [-0.56147088, -1.0335199 ],\n",
       "       [ 0.35877096,  1.07368134],\n",
       "       [-0.37550472,  0.39636757],\n",
       "       [-0.47144628,  2.33660781],\n",
       "       [ 1.50278553, -0.59545972],\n",
       "       [ 0.52834106,  0.9398248 ],\n",
       "       [ 0.42628539, -0.75815703],\n",
       "       [-0.16236698,  0.72680996],\n",
       "       [ 0.44408297, -0.85682264],\n",
       "       [ 0.44692842, -1.01464799],\n",
       "       [-2.1323234 ,  0.17386307],\n",
       "       [ 0.95120126,  0.44189739],\n",
       "       [ 1.46901739,  1.74951635],\n",
       "       [ 0.35353062, -0.64333729],\n",
       "       [-0.04723705, -1.44903979],\n",
       "       [-0.03618977, -0.09084699],\n",
       "       [ 0.17629034,  1.09462041],\n",
       "       [-2.12647459,  0.75144883],\n",
       "       [-0.54060704,  0.79322236],\n",
       "       [ 0.17365335, -1.03543429],\n",
       "       [ 0.87426839, -0.73957208],\n",
       "       [ 0.52294535, -0.59187648],\n",
       "       [-0.47748711,  0.11252968],\n",
       "       [ 1.90474232,  0.69415315],\n",
       "       [-0.01958134,  1.66284285],\n",
       "       [ 0.03060843, -0.29749921],\n",
       "       [-0.96813764,  0.16706673],\n",
       "       [ 0.11660197, -0.68225732],\n",
       "       [-1.91402115, -0.13990231],\n",
       "       [ 0.11492459, -0.39500464],\n",
       "       [-0.95331626, -1.07282736],\n",
       "       [-0.48444561,  1.36293786],\n",
       "       [ 0.15268777, -1.6326206 ],\n",
       "       [ 0.64330145, -0.44789505],\n",
       "       [ 2.33903423, -0.31332286],\n",
       "       [-0.05961756,  0.19416833],\n",
       "       [ 0.2868793 ,  0.05185969],\n",
       "       [ 0.05155094, -0.21958725],\n",
       "       [-0.5532565 , -0.37391087],\n",
       "       [-1.18441686, -0.52817318],\n",
       "       [-0.66353389, -0.43373648],\n",
       "       [-0.44524407, -0.14195923],\n",
       "       [ 0.45240094, -0.30946257],\n",
       "       [ 0.09079696,  0.27026659],\n",
       "       [-0.31449183, -0.14497558],\n",
       "       [ 0.35537056, -1.69891959],\n",
       "       [ 0.65725757, -0.47237563],\n",
       "       [-3.69023566,  0.53384158],\n",
       "       [-1.20135139,  0.89165273],\n",
       "       [-0.98472793, -0.21062697],\n",
       "       [ 0.66615792, -0.79624825],\n",
       "       [-0.99541982, -0.11412716],\n",
       "       [ 1.37018152,  1.09965334],\n",
       "       [ 1.40058146,  0.38470804],\n",
       "       [ 0.48828411,  1.07030973],\n",
       "       [ 0.5685534 , -0.80496557],\n",
       "       [ 0.78263039, -0.49341854],\n",
       "       [-0.81988596,  0.13871369],\n",
       "       [-0.07972565,  0.87266549],\n",
       "       [ 0.2785168 , -0.42754013],\n",
       "       [-0.06009261, -0.56848829],\n",
       "       [-0.32365897,  1.26610337],\n",
       "       [ 0.41356334, -0.37337679],\n",
       "       [-0.32016629, -0.59319584],\n",
       "       [-0.18765745, -1.4863921 ],\n",
       "       [ 0.61189442, -0.26984406],\n",
       "       [ 0.69249311,  0.96133333],\n",
       "       [ 0.31508564, -1.0146655 ],\n",
       "       [-1.22257572,  0.8228126 ],\n",
       "       [ 0.83647485, -1.37809438],\n",
       "       [-0.94542881,  1.09128647],\n",
       "       [ 0.07409773,  2.03076035],\n",
       "       [ 0.51689471,  0.92885736],\n",
       "       [-0.08417101, -0.4485657 ],\n",
       "       [-1.44992793, -2.70693079],\n",
       "       [ 1.11569378,  0.79410326],\n",
       "       [-0.50426698,  1.05250993],\n",
       "       [-1.46705339,  1.57410416],\n",
       "       [ 0.47233738,  1.67693004],\n",
       "       [-1.6912109 ,  1.42780744],\n",
       "       [ 0.92856046,  0.33947011],\n",
       "       [-0.86878205,  0.35483766],\n",
       "       [ 0.2628088 , -0.60903479],\n",
       "       [-1.37105209, -1.06862477],\n",
       "       [-0.53070072,  1.13694227],\n",
       "       [ 1.18705819,  1.69089583],\n",
       "       [ 0.49028137, -1.44553018],\n",
       "       [-0.74310081, -1.15404442],\n",
       "       [-0.25767407,  1.37681404],\n",
       "       [-0.17898073, -0.43062991],\n",
       "       [ 0.52907247,  0.73336413],\n",
       "       [ 0.96671585, -0.9352741 ],\n",
       "       [-0.87820826, -0.45572826],\n",
       "       [ 0.74307591,  0.19329784],\n",
       "       [-0.97132334,  1.89687218],\n",
       "       [-0.54330395, -0.12379468],\n",
       "       [-0.09657885, -0.82001461],\n",
       "       [-0.03557673,  0.05635041],\n",
       "       [ 0.26198812,  0.31557223],\n",
       "       [-0.53279034, -0.92530243],\n",
       "       [ 1.09391977, -0.2180167 ],\n",
       "       [ 1.09773759,  0.45341959],\n",
       "       [ 2.68279527, -0.09590792],\n",
       "       [-1.65417522, -0.31538398],\n",
       "       [ 1.21164595,  1.90117753],\n",
       "       [ 1.75080818,  0.6689234 ],\n",
       "       [ 1.60372408, -0.97985702],\n",
       "       [-0.55122447, -0.91101976],\n",
       "       [ 0.62139726,  1.33253032],\n",
       "       [ 0.07035934,  0.45182179],\n",
       "       [-0.42180208, -0.33001182],\n",
       "       [ 0.16409073,  1.58430318],\n",
       "       [ 0.51728625,  0.55873158],\n",
       "       [ 1.11862873,  0.68783833],\n",
       "       [-0.67571237,  1.78467571],\n",
       "       [-0.09131602,  0.06117315],\n",
       "       [-0.0328893 ,  0.64656168],\n",
       "       [-0.1735962 ,  0.41090073],\n",
       "       [ 1.75440845, -0.74722486],\n",
       "       [-1.81995834,  1.31659165],\n",
       "       [ 0.30258949,  0.71339106],\n",
       "       [ 0.73718956, -0.33620004],\n",
       "       [ 0.20984291, -1.69392935],\n",
       "       [-0.06434559,  0.1013954 ],\n",
       "       [-1.15590566, -0.68065002],\n",
       "       [-0.11487073,  0.32687238],\n",
       "       [-0.16840314,  1.39313259],\n",
       "       [ 0.74387068,  0.81423222],\n",
       "       [-1.75637473, -0.39977671],\n",
       "       [ 0.20245289, -0.37760765],\n",
       "       [ 0.22868099, -0.56824318],\n",
       "       [-0.8349971 , -0.04913236],\n",
       "       [ 0.08748716, -0.29328814],\n",
       "       [-0.04104671,  0.96738962],\n",
       "       [ 0.50524468,  0.81632288],\n",
       "       [ 0.6046289 ,  0.11949148],\n",
       "       [-0.31724333,  1.84409559],\n",
       "       [ 0.15449727,  0.80558128],\n",
       "       [-0.58819006, -1.38824942],\n",
       "       [-1.18751869, -0.27531394],\n",
       "       [-1.14250084,  0.82797099],\n",
       "       [-0.37388201, -0.43016893],\n",
       "       [ 1.65896536, -0.31465698],\n",
       "       [-0.41548213,  2.71437971],\n",
       "       [ 0.46541235,  0.14990859],\n",
       "       [-0.38547508,  1.30158411],\n",
       "       [ 1.23631894, -2.34764103],\n",
       "       [ 0.02390484,  0.32490733],\n",
       "       [ 0.62117924, -1.2203272 ],\n",
       "       [ 0.03223183,  1.7775283 ],\n",
       "       [ 1.20463814, -0.92800218],\n",
       "       [ 0.39610917, -0.66433073],\n",
       "       [ 0.89867665, -2.8345763 ],\n",
       "       [ 0.98194607,  0.34626887],\n",
       "       [ 1.14483324, -1.0783284 ],\n",
       "       [-0.15910191, -0.99295785],\n",
       "       [ 0.58880901,  0.32795255],\n",
       "       [ 2.04469555,  0.87614285],\n",
       "       [-2.10368227,  0.4397294 ],\n",
       "       [ 0.24711405,  1.15070263],\n",
       "       [ 0.81106019, -0.65256523],\n",
       "       [-0.17467124,  1.24014503],\n",
       "       [-0.6268012 ,  0.27679716],\n",
       "       [-0.91230464,  1.24171099],\n",
       "       [ 1.26715241,  0.18624808],\n",
       "       [-0.84680085, -0.38743412],\n",
       "       [-0.09579922, -0.2447181 ],\n",
       "       [ 0.35533825, -1.38707591],\n",
       "       [-1.19319068, -0.87175594],\n",
       "       [ 0.91734686, -1.12251228],\n",
       "       [ 0.19553819,  0.91263183],\n",
       "       [-1.41397622, -1.89148631],\n",
       "       [-1.8390258 ,  0.50091511],\n",
       "       [ 0.38039793, -0.22485646],\n",
       "       [-1.04430502,  0.03158332],\n",
       "       [-1.55736003,  0.43964858]])"
      ]
     },
     "execution_count": 8,
     "metadata": {},
     "output_type": "execute_result"
    }
   ],
   "source": [
    "X"
   ]
  },
  {
   "cell_type": "code",
   "execution_count": 9,
   "metadata": {
    "collapsed": true
   },
   "outputs": [],
   "source": [
    "y = X[:, 1] > np.absolute(X[:, 0])"
   ]
  },
  {
   "cell_type": "code",
   "execution_count": 10,
   "metadata": {
    "collapsed": true
   },
   "outputs": [],
   "source": [
    "y = np.where(y, 1, -1)"
   ]
  },
  {
   "cell_type": "code",
   "execution_count": 11,
   "metadata": {
    "collapsed": true
   },
   "outputs": [],
   "source": [
    "svm = SVC(kernel='rbf', random_state=0, gamma=0.5, C=10.0)"
   ]
  },
  {
   "cell_type": "code",
   "execution_count": 12,
   "metadata": {
    "collapsed": false
   },
   "outputs": [
    {
     "data": {
      "text/plain": [
       "SVC(C=10.0, cache_size=200, class_weight=None, coef0=0.0,\n",
       "  decision_function_shape=None, degree=3, gamma=0.5, kernel='rbf',\n",
       "  max_iter=-1, probability=False, random_state=0, shrinking=True,\n",
       "  tol=0.001, verbose=False)"
      ]
     },
     "execution_count": 12,
     "metadata": {},
     "output_type": "execute_result"
    }
   ],
   "source": [
    "svm.fit(X, y)"
   ]
  },
  {
   "cell_type": "code",
   "execution_count": 13,
   "metadata": {
    "collapsed": true
   },
   "outputs": [],
   "source": [
    "plt.show()"
   ]
  },
  {
   "cell_type": "code",
   "execution_count": 14,
   "metadata": {
    "collapsed": false
   },
   "outputs": [
    {
     "name": "stdout",
     "output_type": "stream",
     "text": [
      "Collecting mlxtend\n",
      "  Downloading mlxtend-0.6.0-py2.py3-none-any.whl (1.3MB)\n",
      "\u001b[K    100% |████████████████████████████████| 1.3MB 786kB/s ta 0:00:01\n",
      "\u001b[?25hRequirement already satisfied: numpy>=1.10.4 in /home/forrest/Workspace/anaconda3/lib/python3.6/site-packages (from mlxtend)\n",
      "Requirement already satisfied: scipy>=0.17 in /home/forrest/Workspace/anaconda3/lib/python3.6/site-packages (from mlxtend)\n",
      "Installing collected packages: mlxtend\n",
      "Successfully installed mlxtend-0.6.0\n"
     ]
    }
   ],
   "source": [
    " !pip install mlxtend"
   ]
  },
  {
   "cell_type": "code",
   "execution_count": 15,
   "metadata": {
    "collapsed": true
   },
   "outputs": [],
   "source": [
    "from mlxtend.plotting import plot_decision_regions"
   ]
  },
  {
   "cell_type": "code",
   "execution_count": 16,
   "metadata": {
    "collapsed": false
   },
   "outputs": [
    {
     "data": {
      "text/plain": [
       "<matplotlib.axes._subplots.AxesSubplot at 0x7fd40946d320>"
      ]
     },
     "execution_count": 16,
     "metadata": {},
     "output_type": "execute_result"
    }
   ],
   "source": [
    "plot_decision_regions(X, y, svm, markers=['o', 'x'], colors='blue,magenta')"
   ]
  },
  {
   "cell_type": "code",
   "execution_count": 17,
   "metadata": {
    "collapsed": false
   },
   "outputs": [
    {
     "data": {
      "image/png": "[encoded data removed]",
      "text/plain": [
       "<matplotlib.figure.Figure at 0x7fd409462be0>"
      ]
     },
     "metadata": {},
     "output_type": "display_data"
    }
   ],
   "source": [
    "plt.show()"
   ]
  },
  {
   "cell_type": "code",
   "execution_count": null,
   "metadata": {
    "collapsed": true
   },
   "outputs": [],
   "source": []
  }
 ],
 "metadata": {
  "kernelspec": {
   "display_name": "Python 3",
   "language": "python",
   "name": "python3"
  },
  "language_info": {
   "codemirror_mode": {
    "name": "ipython",
    "version": 3
   },
   "file_extension": ".py",
   "mimetype": "text/x-python",
   "name": "python",
   "nbconvert_exporter": "python",
   "pygments_lexer": "ipython3",
   "version": "3.6.0"
  }
 },
 "nbformat": 4,
 "nbformat_minor": 2
}
