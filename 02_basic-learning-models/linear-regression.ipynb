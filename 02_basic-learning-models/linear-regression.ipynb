{
 "cells": [
  {
   "cell_type": "code",
   "execution_count": 1,
   "metadata": {
    "collapsed": true,
    "focus": true,
    "id": "0a0a4550-046a-4cad-9983-d97ce488546f"
   },
   "outputs": [],
   "source": [
    "import tensorflow as tf\n",
    "import numpy\n",
    "import matplotlib.pyplot as plt\n",
    "import json"
   ]
  },
  {
   "cell_type": "code",
   "execution_count": 2,
   "metadata": {
    "collapsed": true,
    "focus": false,
    "id": "9a920f9d-a5c5-4411-8286-ad9687ad395e"
   },
   "outputs": [],
   "source": [
    "# parameters\n",
    "learning_rate = 0.01\n",
    "training_epochs = 2000\n",
    "display_step = 100"
   ]
  },
  {
   "cell_type": "code",
   "execution_count": 3,
   "metadata": {
    "collapsed": false,
    "focus": false,
    "id": "8eabcc6e-1520-4709-9a0a-d12d39a3a06d"
   },
   "outputs": [],
   "source": [
    "# load the training data\n",
    "with open('./crickets-chirp-data.json') as data_file:\n",
    "    data = json.load(data_file)\n",
    "\n",
    "train_X = numpy.asarray(data['frequency'])\n",
    "train_Y = numpy.asarray(data['tempF'])"
   ]
  },
  {
   "cell_type": "code",
   "execution_count": 4,
   "metadata": {
    "collapsed": false
   },
   "outputs": [],
   "source": [
    "# graph inputs\n",
    "X = tf.placeholder('float')\n",
    "Y = tf.placeholder('float')\n",
    "\n",
    "# model weights\n",
    "randn = numpy.random.randn\n",
    "W = tf.Variable(randn(), name='weight')\n",
    "b = tf.Variable(randn(), name='bias')"
   ]
  },
  {
   "cell_type": "code",
   "execution_count": 5,
   "metadata": {
    "collapsed": false
   },
   "outputs": [],
   "source": [
    "# linear model\n",
    "pred = tf.add(tf.multiply(X, W), b)"
   ]
  },
  {
   "cell_type": "code",
   "execution_count": 6,
   "metadata": {
    "collapsed": true
   },
   "outputs": [],
   "source": [
    "# mean squared error\n",
    "cost = tf.reduce_sum(tf.pow(pred - Y, 2)) / (2 * train_X.shape[0])"
   ]
  },
  {
   "cell_type": "markdown",
   "metadata": {},
   "source": [
    "\\begin{equation*}\n",
    "MSE = \\frac{1}{n} \\sum_{i=1}^n (\\hat{Y_i} - Y_i)^2\n",
    "\\end{equation*}"
   ]
  },
  {
   "cell_type": "code",
   "execution_count": 7,
   "metadata": {
    "collapsed": false
   },
   "outputs": [],
   "source": [
    "# define gradient descent optimizer\n",
    "optimizer = tf.train.GradientDescentOptimizer(learning_rate).minimize(cost)"
   ]
  },
  {
   "cell_type": "code",
   "execution_count": 8,
   "metadata": {
    "collapsed": true
   },
   "outputs": [],
   "source": [
    "# initialize the variables\n",
    "init = tf.global_variables_initializer()"
   ]
  },
  {
   "cell_type": "code",
   "execution_count": 9,
   "metadata": {
    "collapsed": false,
    "scrolled": true
   },
   "outputs": [
    {
     "name": "stdout",
     "output_type": "stream",
     "text": [
      "Epoch: 0100, cost=12.682089806, W=4.868919849395752, b=1.0051943063735962\n",
      "Epoch: 0200, cost=12.603310585, W=4.8532586097717285, b=1.2574992179870605\n",
      "Epoch: 0300, cost=12.526021004, W=4.837754726409912, b=1.5072647333145142\n",
      "Epoch: 0400, cost=12.450209618, W=4.822406768798828, b=1.754520297050476\n",
      "Epoch: 0500, cost=12.375866890, W=4.80721378326416, b=1.9992802143096924\n",
      "Epoch: 0600, cost=12.302919388, W=4.792173385620117, b=2.2415771484375\n",
      "Epoch: 0700, cost=12.231372833, W=4.777284622192383, b=2.4814364910125732\n",
      "Epoch: 0800, cost=12.161204338, W=4.762546062469482, b=2.7188796997070312\n",
      "Epoch: 0900, cost=12.092368126, W=4.747955799102783, b=2.953930377960205\n",
      "Epoch: 1000, cost=12.024829865, W=4.7335124015808105, b=3.186615467071533\n",
      "Epoch: 1100, cost=11.958556175, W=4.719213485717773, b=3.416958808898926\n",
      "Epoch: 1200, cost=11.893583298, W=4.705060005187988, b=3.644981861114502\n",
      "Epoch: 1300, cost=11.829843521, W=4.691048622131348, b=3.8707096576690674\n",
      "Epoch: 1400, cost=11.767290115, W=4.677177906036377, b=4.094165325164795\n",
      "Epoch: 1500, cost=11.705927849, W=4.66344690322876, b=4.315366744995117\n",
      "Epoch: 1600, cost=11.645740509, W=4.6498541831970215, b=4.5343499183654785\n",
      "Epoch: 1700, cost=11.586697578, W=4.6363983154296875, b=4.751123428344727\n",
      "Epoch: 1800, cost=11.528767586, W=4.623077869415283, b=4.965714454650879\n",
      "Epoch: 1900, cost=11.471942902, W=4.609891891479492, b=5.1781415939331055\n",
      "Epoch: 2000, cost=11.416201591, W=4.596838474273682, b=5.388433456420898\n",
      "\n",
      "Training cost=11.4162015914917, W=5.388433456420898, b=5.388433456420898\n"
     ]
    },
    {
     "data": {
      "image/png": "[encoded data removed]",
      "text/plain": [
       "<matplotlib.figure.Figure at 0x7fa0b6cd17f0>"
      ]
     },
     "metadata": {},
     "output_type": "display_data"
    }
   ],
   "source": [
    "# launch the graph\n",
    "with tf.Session() as sess:\n",
    "    sess.run(init)\n",
    "    \n",
    "    # fit the training data\n",
    "    for epoch in range(training_epochs):\n",
    "        for (x, y) in zip(train_X, train_Y):\n",
    "            sess.run(optimizer, feed_dict={X: x, Y: y})\n",
    "            \n",
    "        # show progress\n",
    "        if (epoch + 1) % display_step == 0:\n",
    "            c = sess.run(cost, feed_dict={X: train_X, Y: train_Y})\n",
    "            epoch_display = '%04d' % (epoch + 1)\n",
    "            cost_display = '{:.9f}'.format(c)\n",
    "            weight_display = sess.run(W)\n",
    "            bias_display = sess.run(b)\n",
    "            print(f'Epoch: {epoch_display}, cost={cost_display}, W={weight_display}, b={bias_display}')\n",
    "            \n",
    "    weight_display = sess.run(W)\n",
    "    bias_display = sess.run(b)\n",
    "    training_cost = sess.run(cost, feed_dict={X: train_X, Y: train_Y})\n",
    "    print(f'\\nTraining cost={training_cost}, W={bias_display}, b={bias_display}')\n",
    "    \n",
    "    # graph the fitted line\n",
    "    plt.plot(train_X, train_Y, 'r+', label='Training Data')\n",
    "    plt.plot(train_X, sess.run(W) * train_X + sess.run(b), label='Fitted Line')\n",
    "    plt.xlabel('Chirps/sec')\n",
    "    plt.ylabel('Temperature (F)')\n",
    "    plt.legend()\n",
    "    plt.show()"
   ]
  },
  {
   "cell_type": "code",
   "execution_count": null,
   "metadata": {
    "collapsed": true
   },
   "outputs": [],
   "source": []
  }
 ],
 "metadata": {
  "kernelspec": {
   "display_name": "Python 3",
   "language": "python",
   "name": "python3"
  },
  "language_info": {
   "codemirror_mode": {
    "name": "ipython",
    "version": 3
   },
   "file_extension": ".py",
   "mimetype": "text/x-python",
   "name": "python",
   "nbconvert_exporter": "python",
   "pygments_lexer": "ipython3",
   "version": "3.6.0"
  }
 },
 "nbformat": 4,
 "nbformat_minor": 2
}
